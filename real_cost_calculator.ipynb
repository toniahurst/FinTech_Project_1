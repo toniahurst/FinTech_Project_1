{
 "cells": [
  {
   "cell_type": "code",
   "execution_count": null,
   "id": "c2063ee6",
   "metadata": {},
   "outputs": [],
   "source": [
    "# Importing the required libraries and dependencies\n",
    "import os\n",
    "import plotly.express as px\n",
    "import plotly.graph_objects as go\n",
    "import pandas as pd\n",
    "import hvplot.pandas\n",
    "import numpy as np\n",
    "import matplotlib.pyplot as plt\n",
    "import ipywidgets as widgets\n",
    "import tkinter as tk\n",
    "from tkinter import simpledialog\n",
    "from pathlib import Path\n",
    "from dotenv import load_dotenv\n",
    "import sqlalchemy"
   ]
  },
  {
   "cell_type": "code",
   "execution_count": null,
   "id": "5fab5ed8",
   "metadata": {},
   "outputs": [],
   "source": [
    "\n",
    "\n",
    "# Dialog\n",
    "ROOT = tk.Tk()\n",
    "\n",
    "ROOT.withdraw()\n",
    "# the input dialog\n",
    "\n",
    "interest = int(simpledialog.askstring(title=\"Interest Rate: %\", prompt=\"Enter the annual interest rate:\"))\n",
    "amount = int(simpledialog.askstring(title=\"Amount\", prompt=\"Enter the amount of the loan:\"))\n",
    "period = simpledialog.askstring(title=\"Period\", prompt=\"Enter a period: Daily, Monthly, Yearly\")\n",
    "years = int(simpledialog.askstring(title=\"Years\", prompt=\"Enter number of years of the loan:\"))\n",
    "\n",
    "\n",
    "# check it out\n",
    "print(\"Interest is\", interest)\n",
    "print(\"amount is\", amount)\n",
    "print(\"Period is\", period)\n",
    "print(\"Months is\", years)\n",
    "\n",
    "future_value = amount*((1+(0.01*interest)) ** years)\n",
    "print(future_value)\n"
   ]
  },
  {
   "cell_type": "code",
   "execution_count": null,
   "id": "940bc8d2",
   "metadata": {},
   "outputs": [],
   "source": []
  },
  {
   "cell_type": "code",
   "execution_count": null,
   "id": "57474563",
   "metadata": {},
   "outputs": [],
   "source": []
  },
  {
   "cell_type": "code",
   "execution_count": null,
   "id": "02ab6881",
   "metadata": {},
   "outputs": [],
   "source": []
  },
  {
   "cell_type": "code",
   "execution_count": null,
   "id": "34c92b82",
   "metadata": {},
   "outputs": [],
   "source": [
    "from IPython.display import IFrame\n",
    "IFrame(src=\"https://smartstartcredit.org\", width='100%', height='300')"
   ]
  },
  {
   "cell_type": "code",
   "execution_count": null,
   "id": "64ecbc7e",
   "metadata": {},
   "outputs": [],
   "source": []
  },
  {
   "cell_type": "code",
   "execution_count": null,
   "id": "20d31c30",
   "metadata": {},
   "outputs": [],
   "source": []
  },
  {
   "cell_type": "code",
   "execution_count": null,
   "id": "1a79f6ff",
   "metadata": {},
   "outputs": [],
   "source": []
  },
  {
   "cell_type": "code",
   "execution_count": null,
   "id": "60f86c5e",
   "metadata": {},
   "outputs": [],
   "source": []
  },
  {
   "cell_type": "code",
   "execution_count": null,
   "id": "2a14fd11",
   "metadata": {},
   "outputs": [],
   "source": []
  },
  {
   "cell_type": "code",
   "execution_count": null,
   "id": "1a5da26a",
   "metadata": {},
   "outputs": [],
   "source": []
  }
 ],
 "metadata": {
  "interpreter": {
   "hash": "fdf8e43c8353da64878890159d3370f7834e03c131de5ed759fc14ee56d7b972"
  },
  "kernelspec": {
   "display_name": "Python 3",
   "language": "python",
   "name": "python3"
  },
  "language_info": {
   "codemirror_mode": {
    "name": "ipython",
    "version": 3
   },
   "file_extension": ".py",
   "mimetype": "text/x-python",
   "name": "python",
   "nbconvert_exporter": "python",
   "pygments_lexer": "ipython3",
   "version": "3.7.10"
  }
 },
 "nbformat": 4,
 "nbformat_minor": 5
}
