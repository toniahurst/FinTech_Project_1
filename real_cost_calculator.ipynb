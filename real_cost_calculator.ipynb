{
 "cells": [
  {
   "cell_type": "code",
   "execution_count": 1,
   "id": "c0257048",
   "metadata": {},
   "outputs": [],
   "source": [
    "# Importing the required libraries and dependencies\n",
    "import os\n",
    "import pandas as pd\n",
    "import ipywidgets as widgets\n",
    "import tkinter as tk\n",
    "from tkinter import simpledialog"
   ]
  },
  {
   "cell_type": "code",
   "execution_count": 2,
   "id": "a7e36823",
   "metadata": {},
   "outputs": [
    {
     "name": "stdout",
     "output_type": "stream",
     "text": [
      "Interest is 15\n",
      "amount is 2000\n",
      "Period is monthly\n",
      "Months is 2\n",
      "2644.9999999999995\n"
     ]
    }
   ],
   "source": [
    "#\n",
    "\n",
    "# Dialog\n",
    "ROOT = tk.Tk()\n",
    "\n",
    "ROOT.withdraw()\n",
    "# the input dialog\n",
    "\n",
    "interest = int(simpledialog.askstring(title=\"Interest Rate: %\", prompt=\"Enter the annual interest rate:\"))\n",
    "amount = int(simpledialog.askstring(title=\"Amount\", prompt=\"Enter the amount of the loan:\"))\n",
    "period = simpledialog.askstring(title=\"Period\", prompt=\"Enter a period: Daily, Monthly, Yearly\")\n",
    "years = int(simpledialog.askstring(title=\"Years\", prompt=\"Enter number of years of the loan:\"))\n",
    "\n",
    "\n",
    "# check it out\n",
    "print(\"Interest is\", interest)\n",
    "print(\"amount is\", amount)\n",
    "print(\"Period is\", period)\n",
    "print(\"Months is\", years)\n",
    "\n",
    "future_value = amount*((1+(0.01*interest)) ** years)\n",
    "print(future_value)\n"
   ]
  },
  {
   "cell_type": "code",
   "execution_count": 3,
   "id": "402ad835",
   "metadata": {},
   "outputs": [],
   "source": [
    "# Link to smartstartcredit.org (blog in development)"
   ]
  },
  {
   "cell_type": "code",
   "execution_count": 6,
   "id": "6f2c9b89",
   "metadata": {},
   "outputs": [
    {
     "data": {
      "text/html": [
       "\n",
       "        <iframe\n",
       "            width=\"100%\"\n",
       "            height=\"800\"\n",
       "            src=\"https://smartstartcredit.org\"\n",
       "            frameborder=\"0\"\n",
       "            allowfullscreen\n",
       "        ></iframe>\n",
       "        "
      ],
      "text/plain": [
       "<IPython.lib.display.IFrame at 0x7fc99db0b090>"
      ]
     },
     "execution_count": 6,
     "metadata": {},
     "output_type": "execute_result"
    }
   ],
   "source": [
    "from IPython.display import IFrame\n",
    "IFrame(src=\"https://smartstartcredit.org\", width='100%', height='800')"
   ]
  },
  {
   "cell_type": "code",
   "execution_count": null,
   "id": "328ad5d3",
   "metadata": {},
   "outputs": [],
   "source": []
  }
 ],
 "metadata": {
  "interpreter": {
   "hash": "fdf8e43c8353da64878890159d3370f7834e03c131de5ed759fc14ee56d7b972"
  },
  "kernelspec": {
   "display_name": "Python 3",
   "language": "python",
   "name": "python3"
  },
  "language_info": {
   "codemirror_mode": {
    "name": "ipython",
    "version": 3
   },
   "file_extension": ".py",
   "mimetype": "text/x-python",
   "name": "python",
   "nbconvert_exporter": "python",
   "pygments_lexer": "ipython3",
   "version": "3.7.10"
  }
 },
 "nbformat": 4,
 "nbformat_minor": 5
}
