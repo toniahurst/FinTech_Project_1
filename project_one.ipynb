{
 "cells": [
  {
   "cell_type": "code",
   "execution_count": null,
   "id": "1ebd4984",
   "metadata": {},
   "outputs": [],
   "source": [
    "# Importing the required libraries and dependencies\n",
    "import os\n",
    "import plotly.express as px\n",
    "import plotly.graph_objects as go\n",
    "import pandas as pd\n",
    "import hvplot.pandas\n",
    "import numpy as np\n",
    "import matplotlib.pyplot as plt\n",
    "import ipywidgets as widgets\n",
    "from pathlib import Path\n",
    "from dotenv import load_dotenv\n",
    "import sqlalchemy"
   ]
  },
  {
   "cell_type": "code",
   "execution_count": null,
   "id": "218079de",
   "metadata": {},
   "outputs": [],
   "source": [
    "load_dotenv()"
   ]
  },
  {
   "cell_type": "code",
   "execution_count": null,
   "id": "8d3cf4a6",
   "metadata": {},
   "outputs": [],
   "source": [
    "# Read in your MAPBOX_API_KEY\n",
    "mapbox_api_access_token = os.getenv(\"MAPBOX_API_ACCESS_TOKEN\")\n",
    "\n",
    "# Set your Mapbox API access token\n",
    "px.set_mapbox_access_token(mapbox_api_access_token)\n",
    "\n",
    "# Confirm the availability of your Mapbox API access token by checking its type\n",
    "type(mapbox_api_access_token)"
   ]
  },
  {
   "cell_type": "code",
   "execution_count": null,
   "id": "988604d2",
   "metadata": {},
   "outputs": [],
   "source": [
    "# Dataset 1\n",
    "data_one_df = pd.read_csv(\n",
    "    Path(\"./Resources_Project_1/Data_Files/ONE_UI_data-15z92.csv\"),\n",
    "\n",
    ")\n",
    "data_one_df = data_one_df.dropna().set_index(\"Age\")\n",
    "display(data_one_df.head(10))"
   ]
  },
  {
   "cell_type": "code",
   "execution_count": null,
   "id": "77c5e8a8",
   "metadata": {},
   "outputs": [],
   "source": [
    "# Plot of dataset 1\n",
    "data_one_df.hvplot.bar(\n",
    "    xlabel=\"Age Group\",\n",
    "    ylabel=\"% Difference in Average Wealth by Age\",\n",
    "    y = \"Millenials/Generation X\",\n",
    "    x = \"Age\",\n",
    "    title=\"Fig. 1: Millenial Families Compared to Older Generations\",\n",
    "    hover_color=\"teal\",\n",
    "    rot=90,\n",
    "    height=300,\n",
    "    width=600,   \n",
    ")"
   ]
  },
  {
   "cell_type": "code",
   "execution_count": null,
   "id": "5934492d",
   "metadata": {},
   "outputs": [],
   "source": [
    "# Dataset 2\n",
    "data_two_df = pd.read_csv(\n",
    "    Path(\"./Resources_Project_1/Data_Files/TWO_UI_YIOWz.csv\"),\n",
    ")\n",
    "data_two_df = data_two_df.dropna().set_index(\"Year\")\n",
    "display(data_two_df.head(10))"
   ]
  },
  {
   "cell_type": "code",
   "execution_count": null,
   "id": "5db4c017",
   "metadata": {},
   "outputs": [],
   "source": [
    "# Plot of dataset 2\n",
    "data_two_df.hvplot.line(\n",
    "    xlabel=\"Year\",\n",
    "    ylabel=\"Debt in Billions\",\n",
    "    y = \"\",\n",
    "    x = \"Year\",\n",
    "    title=\"Fig. 2: Education Loan Debt Increasing\",\n",
    "    rot=90,\n",
    "    height=300,\n",
    "    width=600,   \n",
    ")"
   ]
  },
  {
   "cell_type": "code",
   "execution_count": null,
   "id": "faee0fd1",
   "metadata": {},
   "outputs": [],
   "source": [
    "# Dataset 3\n",
    "data_three_df = pd.read_csv(\n",
    "    Path(\"./Resources_Project_1/Data_Files/THREE_UI_cIWas.csv\"),\n",
    ")\n",
    "data_three_df = data_three_df.dropna().set_index(\"Asset Type\")\n",
    "display(data_three_df.head(10))\n"
   ]
  },
  {
   "cell_type": "code",
   "execution_count": null,
   "id": "af00ea7b",
   "metadata": {},
   "outputs": [],
   "source": [
    "# Plot of dataset 3\n",
    "data_three_df.hvplot.bar(\n",
    "    xlabel=\"Asset Type\",\n",
    "    ylabel=\"Percent\",\n",
    "    y = \"\",\n",
    "    x = \"\",\n",
    "    title=\"Fig. 3: Millenial Wealth Compared to All Adults.\",\n",
    "    height=400,\n",
    "    width=800,\n",
    "    rot=90,\n",
    ").opts(yrotation=90)\n"
   ]
  },
  {
   "cell_type": "code",
   "execution_count": null,
   "id": "8ca823c1",
   "metadata": {},
   "outputs": [],
   "source": [
    "# Dataset 4\n",
    "data_four_df = pd.read_csv(\n",
    "    Path(\"./Resources_Project_1/Data_Files/FOUR_UI_data_W2cix.csv\"),\n",
    ")\n",
    "data_four_df = data_four_df.dropna().set_index(\"Asset Type\")\n",
    "display(data_four_df.head())"
   ]
  },
  {
   "cell_type": "code",
   "execution_count": null,
   "id": "5d166f97",
   "metadata": {},
   "outputs": [],
   "source": [
    "# Plot of dataset 4\n",
    "data_four_df.hvplot.bar(\n",
    "    xlabel=\"Asset Type\",\n",
    "    ylabel=\"Percent\",\n",
    "    y = \"\",\n",
    "    x = \"\",\n",
    "    title=\"Fig. 4: Proportions of Debt\",\n",
    "    height=300,\n",
    "    width=600,\n",
    "    rot=90,\n",
    ").opts(yrotation=90)\n"
   ]
  },
  {
   "cell_type": "code",
   "execution_count": null,
   "id": "f9a1b40f",
   "metadata": {},
   "outputs": [],
   "source": [
    "# Dataset 5\n",
    "data_five_df = pd.read_csv(\n",
    "    Path(\"./Resources_Project_1/Data_Files/FIVE_UI_data-Z8QeE.csv\"),\n",
    ")\n",
    "data_five_df.isnull().dropna()\n",
    "display(data_five_df.head())\n",
    "display(data_five_df.tail())"
   ]
  },
  {
   "cell_type": "code",
   "execution_count": null,
   "id": "c5c6bc4d",
   "metadata": {},
   "outputs": [],
   "source": [
    "# Plot of dataset 5\n",
    "data_five_df.iloc[0:3].hvplot(\n",
    "    kind='barh', \n",
    "    x='Purchase', \n",
    "    title=\"Fig. 5: Cost of Subprime Credit Score\", \n",
    "    legend='right'\n",
    ")"
   ]
  },
  {
   "cell_type": "code",
   "execution_count": null,
   "id": "d68a3619",
   "metadata": {},
   "outputs": [],
   "source": [
    "# Dataset 6\n",
    "data_six_df = pd.read_csv(\n",
    "    Path(\"./Resources_Project_1/Data_Files/SIX_UI_data_rInqo.csv\"),\n",
    ")\n",
    "data_six_df.isnull().dropna()\n",
    "display(data_six_df.head())\n",
    "display(data_six_df.tail())"
   ]
  },
  {
   "cell_type": "code",
   "execution_count": null,
   "id": "9ae8d888",
   "metadata": {},
   "outputs": [],
   "source": [
    "# Plot of dataset 6\n",
    "data_six_df.iloc[0:3].hvplot(\n",
    "    kind='barh',\n",
    "    x=\"Age Group\", \n",
    "    ylabel=\"Credit Score\", \n",
    "    xlabel=\"Age Group\",\n",
    "    title=\"Fig. 6: Subprime Credit Score Increases with Age\", \n",
    "    legend=True,\n",
    "    height=300,\n",
    "    width=500\n",
    ")"
   ]
  },
  {
   "cell_type": "code",
   "execution_count": null,
   "id": "58d2e7fd",
   "metadata": {},
   "outputs": [],
   "source": [
    "# Dataset 7\n",
    "data_seven_df = pd.read_csv(\n",
    "    Path(\"./Resources_Project_1/Data_Files/SEVEN_UI_data_riRjx.csv\"),\n",
    ")\n",
    "data_seven_df = data_seven_df.dropna().set_index(\"Age Group\")\n",
    "display(data_seven_df.head())\n",
    "display(data_seven_df.tail())"
   ]
  },
  {
   "cell_type": "code",
   "execution_count": null,
   "id": "362f5619",
   "metadata": {},
   "outputs": [],
   "source": [
    "# Plot dataset 7\n",
    "# relevant_factors = [Communities of color, Majority-white communities]\n",
    "data_seven_df.hvplot.bar(\n",
    "    xlabel=\"Age Group\",\n",
    "    ylabel=\"Share of Subprime Credit\",\n",
    "    y = \"\",\n",
    "    x = \"Age Group\",\n",
    "    title=\"Fig. 7: Share of Subprime Credit Increases with Age\",\n",
    "    hover_color=\"orange\",\n",
    "    rot=90,\n",
    "    height=400,\n",
    "    width=600,   \n",
    ")"
   ]
  },
  {
   "cell_type": "code",
   "execution_count": null,
   "id": "bbe833f0",
   "metadata": {},
   "outputs": [],
   "source": [
    "# Dataset 8\n",
    "data_eight_df = pd.read_csv(\n",
    "    Path(\"./Resources_Project_1/Data_Files/EIGHT_UI_data_QcJ1F.csv\"),\n",
    ")\n",
    "data_eight_df = data_eight_df.dropna().set_index(\"Age Group\")\n",
    "display(data_eight_df.head())\n",
    "display(data_eight_df.tail())"
   ]
  },
  {
   "cell_type": "code",
   "execution_count": null,
   "id": "60dbd377",
   "metadata": {},
   "outputs": [],
   "source": [
    "data_eight_df.hvplot.bar(\n",
    "    xlabel=\"Age Group\",\n",
    "    ylabel=\"Median Credit Score by Race\",\n",
    "    y = \"\",\n",
    "    x = \"Age Group\",\n",
    "    title=\"Fig. 8: Persistent Racial Differences in Credit Score Among Millenials\",\n",
    "    hover_color=\"orange\",\n",
    "    rot=90,\n",
    "    height=300,\n",
    "    width=600,   \n",
    ")"
   ]
  },
  {
   "cell_type": "code",
   "execution_count": null,
   "id": "00b81b92",
   "metadata": {},
   "outputs": [],
   "source": [
    "# Dataset 9\n",
    "data_nine_df = pd.read_csv(\n",
    "    Path(\"./Resources_Project_1/Data_Files/NINE_UI_data-wGEIn.csv\"),\n",
    ")\n",
    "data_nine_df = data_nine_df.dropna().set_index(\"Year\")\n",
    "display(data_nine_df.head())\n",
    "display(data_nine_df.tail())"
   ]
  },
  {
   "cell_type": "code",
   "execution_count": null,
   "id": "d0c0e20e",
   "metadata": {},
   "outputs": [],
   "source": [
    "# Plot of data 9\n",
    "data_nine_df.hvplot.line(\n",
    "    xlabel=\"Year\",\n",
    "    ylabel=\"Debt in Billions\",\n",
    "    y = \"\",\n",
    "    x = \"Year\",\n",
    "    title=\"Fig. 9: The Racial Wealth Gap Grows Sharply with Age\",\n",
    "    hover_color=\"orange\",\n",
    "    rot=90,\n",
    "    height=400,\n",
    "    width=700,   \n",
    ")"
   ]
  },
  {
   "cell_type": "code",
   "execution_count": null,
   "id": "af60dab8",
   "metadata": {},
   "outputs": [],
   "source": [
    "# Slide 10\n",
    "data_ten_df = pd.read_csv(\n",
    "    Path(\"./Resources_Project_1/Data_Files/TEN_UI_data-okYos.csv\"),\n",
    ")\n",
    "data_ten_df = data_ten_df.dropna().set_index(\"Age Group\")\n",
    "display(data_ten_df.head())\n",
    "display(data_ten_df.tail())"
   ]
  },
  {
   "cell_type": "code",
   "execution_count": null,
   "id": "fede7c21",
   "metadata": {},
   "outputs": [],
   "source": [
    "data_ten_df.hvplot.bar(\n",
    "    xlabel=\"Age Group\",\n",
    "    ylabel=\"Communities\",\n",
    "    y = \"\",\n",
    "    x = \"\",\n",
    "    title=\"Fig. 10: Deliquency Increases with Age\",\n",
    "    hover_color=\"orange\",\n",
    "    rot=90,\n",
    "    height=400,\n",
    "    width=500,   \n",
    ")"
   ]
  },
  {
   "cell_type": "code",
   "execution_count": null,
   "id": "adf0b2aa",
   "metadata": {},
   "outputs": [],
   "source": [
    "# Dataset 11\n",
    "data_eleven_df = pd.read_csv(\n",
    "    Path(\"./Resources_Project_1/Data_Files/ELEVEN_UI_data_MxXI1.csv\")\n",
    ")\n",
    "data_eleven_df_sorted = data_eleven_df.sort_values(\"ID\").set_index(\"ID\")\n",
    "\n",
    "display(data_eleven_df_sorted.head(10))\n"
   ]
  },
  {
   "cell_type": "code",
   "execution_count": null,
   "id": "17de006e",
   "metadata": {},
   "outputs": [],
   "source": [
    "# Load state coordinates data\n",
    "usa_states_coordinates_df = pd.read_csv(\n",
    "    Path(\"./Resources_Project_1/usa_states_lat_long.csv\"), index_col=\"usa_state_code\")\n",
    "\n",
    "# Review the DataFrame\n",
    "usa_states_coordinates_df.reset_index(inplace= True)\n",
    "usa_states_coordinates_df.columns = [\"usa_state_code\", \"usa_state_latitude\", \"usa_state_longitude\",\"usa_state\"]\n",
    "usa_states_coordinates_df.set_index(\"usa_state\", inplace = True)\n",
    "\n",
    "display(usa_states_coordinates_df.head(56))"
   ]
  },
  {
   "cell_type": "code",
   "execution_count": null,
   "id": "f82d5525",
   "metadata": {},
   "outputs": [],
   "source": [
    "# Using the Pandas `concat` function, join the \n",
    "# slide_eleven_df_sorted and the usa_states_coordinates_df DataFrame\n",
    "# The concat function will automatially combine columns with\n",
    "# identical information, while keeping the additional columns.\n",
    "all_states_data_df = pd.concat(\n",
    "    [data_eleven_df_sorted, usa_states_coordinates_df], \n",
    "    axis=\"columns\",\n",
    "    sort=False\n",
    ")\n",
    "# Call the dropna function to remove any records that do not have data\n",
    "all_states_data_df = all_states_data_df.reset_index().dropna()\n",
    "\n",
    "# Rename the \"index\" column as \"usa_state\" for use in the Visualization\n",
    "all_states_data_df = all_states_data_df.rename(columns={\"index\": \"usa_state\", \"Value\": \"% in collection\"})\n",
    "\n",
    "# Review the resulting DataFrame\n",
    "display(all_states_data_df.head(56))"
   ]
  },
  {
   "cell_type": "code",
   "execution_count": null,
   "id": "876ce33a",
   "metadata": {},
   "outputs": [],
   "source": [
    "# Create a scatter mapbox to analyze debt collection concentration\n",
    "px.scatter_mapbox( \n",
    "    all_states_data_df,\n",
    "    lat=\"usa_state_latitude\",\n",
    "    lon=\"usa_state_longitude\",\n",
    "    size=\"% in collection\",\n",
    "    color=\"% in collection\",\n",
    "    hover_name=\"usa_state\",\n",
    "    size_max=20,\n",
    "    zoom=3,\n",
    "    title=\"Fig. 11: Percentage of Adults Under 30 with Debt in Collections\",\n",
    ")"
   ]
  },
  {
   "cell_type": "code",
   "execution_count": null,
   "id": "10a22025",
   "metadata": {},
   "outputs": [],
   "source": [
    "# Dataset 12\n",
    "data_twelve_df = pd.read_csv(\n",
    "    Path(\"./Resources_Project_1/Data_Files/TWELVE_data-wVncJ_back.csv\"),\n",
    ")\n",
    "data_twelve_df = data_twelve_df.dropna().set_index(\"Age Group\")\n",
    "display(data_twelve_df.head())\n",
    "display(data_twelve_df.tail())"
   ]
  },
  {
   "cell_type": "code",
   "execution_count": null,
   "id": "747b2a37",
   "metadata": {},
   "outputs": [],
   "source": [
    "# Plot datset 12\n",
    "data_twelve_df.hvplot.bar(\n",
    "    xlabel=\"Age Group\",\n",
    "    ylabel=\"Percent  (%) \",\n",
    "    y = \"\",\n",
    "    x = \"Age Group\",\n",
    "    title=\"Fig. 12: Percent Difference in Average Wealth by Age Groups, 1983-2016\",\n",
    "    hover_color=\"orange\",\n",
    "    rot=90,\n",
    "    height=400,\n",
    "    width=500,   \n",
    "    legend='bottom_left'\n",
    ")"
   ]
  },
  {
   "cell_type": "code",
   "execution_count": null,
   "id": "97168168",
   "metadata": {},
   "outputs": [],
   "source": [
    "# Dataset 13\n",
    "data_thirteen_df = pd.read_csv(\n",
    "    Path(\"./Resources_Project_1/Data_Files/THIRTEEN_data_CcmyN.csv\"),\n",
    ")\n",
    "data_thirteen_df = data_thirteen_df.dropna().set_index(\"State\")\n",
    "display(data_thirteen_df.head())\n",
    "display(data_thirteen_df.tail(56))"
   ]
  },
  {
   "cell_type": "code",
   "execution_count": null,
   "id": "cb937dd2",
   "metadata": {},
   "outputs": [],
   "source": [
    "# Using the Pandas `concat` function, join the \n",
    "# slide_eleven_df_sorted and the usa_states_coordinates_df DataFrame\n",
    "# The concat function will automatially combine columns with\n",
    "# identical information, while keeping the additional columns.\n",
    "all_states_data_updated_df = pd.concat(\n",
    "    [data_thirteen_df, usa_states_coordinates_df], \n",
    "    axis=\"columns\",\n",
    "    sort=False\n",
    ")\n",
    "# Call the dropna function to remove any records that do not have data\n",
    "all_states_data_updated_df = all_states_data_updated_df.reset_index().dropna()\n",
    "\n",
    "# Rename the \"index\" column as \"usa_state\" for use in the Visualization\n",
    "all_states_data_updated_df = all_states_data_updated_df.rename(columns={\"index\": \"usa_state\", \"2019\": \"2019 Credit Score\", \"2020\": \"2020 Credit Score\"})\n",
    "\n",
    "# Review the resulting DataFrame\n",
    "display(all_states_data_updated_df.head(56))\n"
   ]
  },
  {
   "cell_type": "code",
   "execution_count": null,
   "id": "725b31b6",
   "metadata": {},
   "outputs": [],
   "source": [
    "# Create a scatter mapbox to analyze debt collection concentration\n",
    "px.scatter_mapbox(\n",
    "    all_states_data_updated_df,\n",
    "    lat=\"usa_state_latitude\",\n",
    "    lon=\"usa_state_longitude\",\n",
    "    size=\"2019 Credit Score\",\n",
    "    color=\"2020 Credit Score\",\n",
    "    hover_name=\"usa_state\",\n",
    "    size_max=20,\n",
    "    zoom=3,\n",
    "    title=\"Fig. 13: Credit Scores by State\",\n",
    ")"
   ]
  },
  {
   "cell_type": "code",
   "execution_count": null,
   "id": "9ad2d8a4",
   "metadata": {},
   "outputs": [],
   "source": [
    "from IPython.display import IFrame\n",
    "IFrame(src=\"https://smartstartcredit.org\", width='100%', height='200px')"
   ]
  },
  {
   "cell_type": "code",
   "execution_count": null,
   "id": "4689ce22",
   "metadata": {},
   "outputs": [],
   "source": []
  },
  {
   "cell_type": "code",
   "execution_count": null,
   "id": "6688a9e9",
   "metadata": {},
   "outputs": [],
   "source": []
  },
  {
   "cell_type": "code",
   "execution_count": null,
   "id": "f6b59246",
   "metadata": {},
   "outputs": [],
   "source": []
  },
  {
   "cell_type": "code",
   "execution_count": null,
   "id": "73e05a81",
   "metadata": {},
   "outputs": [],
   "source": []
  },
  {
   "cell_type": "code",
   "execution_count": null,
   "id": "e08f205d",
   "metadata": {},
   "outputs": [],
   "source": []
  },
  {
   "cell_type": "code",
   "execution_count": null,
   "id": "512f62a6",
   "metadata": {},
   "outputs": [],
   "source": []
  }
 ],
 "metadata": {
  "kernelspec": {
   "display_name": "Python (dev)",
   "language": "python",
   "name": "dev"
  },
  "language_info": {
   "codemirror_mode": {
    "name": "ipython",
    "version": 3
   },
   "file_extension": ".py",
   "mimetype": "text/x-python",
   "name": "python",
   "nbconvert_exporter": "python",
   "pygments_lexer": "ipython3",
   "version": "3.7.10"
  }
 },
 "nbformat": 4,
 "nbformat_minor": 5
}
