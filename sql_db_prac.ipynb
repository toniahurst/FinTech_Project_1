{
 "cells": [
  {
   "cell_type": "code",
   "execution_count": null,
   "id": "a84a279e-845e-4ece-9967-0af76b96b1a7",
   "metadata": {},
   "outputs": [],
   "source": [
    "# Importing the required libraries and dependencies\n",
    "import numpy as np\n",
    "import pandas as pd\n",
    "import hvplot.pandas\n",
    "import sqlalchemy\n",
    "\n",
    "# Create a temporary SQLite database and populate the database with content from the etf.db seed file\n",
    "database_connection_string = 'sqlite:///etf.db'\n",
    "\n",
    "# Create an engine to interact with the SQLite database\n",
    "engine = sqlalchemy.create_engine(database_connection_string)\n",
    "\n",
    "# Confirm that table names contained in the SQLite database.\n",
    "engine.table_names()\n"
   ]
  },
  {
   "cell_type": "code",
   "execution_count": null,
   "id": "6b63cf90-03cb-444c-be07-9201ae2cf098",
   "metadata": {},
   "outputs": [],
   "source": [
    "# Create a SQL query to join each table in the portfolio into a single DataFrame \n",
    "# Use the time column from each table as the basis for the join\n",
    "# Joining GDOT and GS \n",
    "query = \"\"\"\n",
    "SELECT GDOT.time, GDOT.daily_returns, GS.daily_returns, PYPL.daily_returns, SQ.daily_returns\n",
    "FROM GDOT\n",
    "JOIN GS ON GDOT.time = GS.time\n",
    "JOIN PYPL ON GDOT.time = PYPL.time\n",
    "JOIN SQ ON GDOT.time = SQ.time\n",
    "\"\"\"\n",
    "\n",
    "# Using the query, read the data from the database into a Pandas DataFrame\n",
    "etf_portfolio = pd.read_sql_query(query, con=engine)\n",
    "\n",
    "# Review the resulting DataFrame\n",
    "print(\"                   Time\", \"       GDOT\", \"       GS\", \"      PYPL\", \"        SQ\")\n",
    "etf_portfolio.head()"
   ]
  }
 ],
 "metadata": {
  "kernelspec": {
   "display_name": "Python 3",
   "language": "python",
   "name": "python3"
  },
  "language_info": {
   "codemirror_mode": {
    "name": "ipython",
    "version": 3
   },
   "file_extension": ".py",
   "mimetype": "text/x-python",
   "name": "python",
   "nbconvert_exporter": "python",
   "pygments_lexer": "ipython3",
   "version": "3.8.5"
  }
 },
 "nbformat": 4,
 "nbformat_minor": 5
}
